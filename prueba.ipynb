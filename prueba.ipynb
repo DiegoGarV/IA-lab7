{
 "cells": [
  {
   "cell_type": "code",
   "execution_count": 1,
   "metadata": {},
   "outputs": [],
   "source": [
    "import pandas as pd\n",
    "import matplotlib.pyplot as plt\n",
    "from board_and_rules import Connect4, minimax\n",
    "from td_agent import TDAgent, train_td_agent\n",
    "\n",
    "RESULTADOS_FILE = \"resultados.csv\"\n"
   ]
  },
  {
   "cell_type": "code",
   "execution_count": null,
   "metadata": {},
   "outputs": [],
   "source": [
    "def guardar_resultado(modo, ganador):\n",
    "    try:\n",
    "        df = pd.read_csv(RESULTADOS_FILE)\n",
    "    except FileNotFoundError:\n",
    "        df = pd.DataFrame(columns=[\"modo\", \"ganador\"])\n",
    "\n",
    "    df = pd.concat(\n",
    "        [df, pd.DataFrame({\"modo\": [modo], \"ganador\": [ganador]})], ignore_index=True\n",
    "    )\n",
    "    df.to_csv(RESULTADOS_FILE, index=False)\n"
   ]
  },
  {
   "cell_type": "code",
   "execution_count": null,
   "metadata": {},
   "outputs": [],
   "source": [
    "def graficar_resultados():\n",
    "    try:\n",
    "        df = pd.read_csv(RESULTADOS_FILE)\n",
    "    except FileNotFoundError:\n",
    "        print(\"No hay datos para graficar aún.\")\n",
    "        return\n",
    "\n",
    "    modos_ordenados = [\"1\", \"2\", \"3\"]\n",
    "    modo_labels = {\n",
    "        \"1\": \"1 - Jugador vs TDL\",\n",
    "        \"2\": \"2 - TDL vs Minimax\",\n",
    "        \"3\": \"3 - TDL vs Minimax+Poda\",\n",
    "    }\n",
    "    ganadores = [\"Jugador\", \"Minimax\", \"Empate\", \"TDL\"]\n",
    "\n",
    "    df[\"modo\"] = df[\"modo\"].astype(str).str.strip()\n",
    "    df[\"ganador\"] = df[\"ganador\"].astype(str).str.strip()\n",
    "\n",
    "    conteo = df.groupby([\"modo\", \"ganador\"]).size().unstack(fill_value=0)\n",
    "\n",
    "    for ganador in ganadores:\n",
    "        if ganador not in conteo.columns:\n",
    "            conteo[ganador] = 0\n",
    "\n",
    "    for modo in modos_ordenados:\n",
    "        if modo not in conteo.index:\n",
    "            conteo.loc[modo] = [0] * len(ganadores)\n",
    "\n",
    "    conteo = conteo.loc[modos_ordenados, ganadores]\n",
    "    xtick_labels = [modo_labels[modo] for modo in modos_ordenados]\n",
    "\n",
    "    if (conteo.sum(axis=1) == 0).all():\n",
    "        print(\"Aún no se han registrado partidas para graficar.\")\n",
    "        return\n",
    "\n",
    "    ax = conteo.plot(kind=\"bar\", figsize=(9, 6), width=0.7, colormap=\"viridis\")\n",
    "    plt.title(\"Resultados de las partidas\")\n",
    "    plt.xlabel(\"Modo de juego\")\n",
    "    plt.ylabel(\"Cantidad de victorias\")\n",
    "    plt.xticks(ticks=range(len(xtick_labels)), labels=xtick_labels, rotation=0)\n",
    "    plt.legend(title=\"Ganador\", labels=ganadores)\n",
    "    plt.grid(axis=\"y\", linestyle=\"--\", alpha=0.7)\n",
    "    plt.tight_layout()\n",
    "    plt.savefig(\"grafica_resultados.png\")\n",
    "    plt.show()\n"
   ]
  },
  {
   "cell_type": "code",
   "execution_count": null,
   "metadata": {},
   "outputs": [],
   "source": [
    "td_agent = TDAgent()\n",
    "game = Connect4()\n",
    "\n",
    "print(\"Entrenando agente TDL...\")\n",
    "train_td_agent(agent=td_agent, game=game, episodes=5000)\n",
    "print(\"Entrenamiento finalizado.\")\n"
   ]
  },
  {
   "cell_type": "code",
   "execution_count": null,
   "metadata": {},
   "outputs": [],
   "source": [
    "def jugar_interactivamente(td_agent):\n",
    "    game = Connect4()\n",
    "    game.reset()\n",
    "\n",
    "    print(\"\\nElige el modo de juego:\")\n",
    "    print(\"1 - Jugador vs IA (TD Learning)\")\n",
    "    print(\"2 - IA (TDL) vs IA (Minimax sin poda)\")\n",
    "    print(\"3 - IA (TDL) vs IA (Minimax con poda)\")\n",
    "\n",
    "    mode = input(\"\\nIngresa el número de la opción: \")\n",
    "\n",
    "    turn = 1\n",
    "    while True:\n",
    "        game.print_board()\n",
    "        player = 1 if turn % 2 != 0 else 2\n",
    "\n",
    "        if mode == \"1\" and player == 1:\n",
    "            try:\n",
    "                column = int(input(f\"Jugador {player}, elige una columna (1-7): \")) - 1\n",
    "            except ValueError:\n",
    "                print(\"Entrada inválida.\")\n",
    "                continue\n",
    "\n",
    "            if column not in range(7) or not game.is_valid_location(column):\n",
    "                print(\"Movimiento inválido.\")\n",
    "                continue\n",
    "\n",
    "            game.drop_piece(column, player)\n",
    "        else:\n",
    "            if (mode == \"1\" and player == 2) or mode in [\"2\", \"3\n"
   ]
  },
  {
   "cell_type": "code",
   "execution_count": null,
   "metadata": {},
   "outputs": [],
   "source": [
    "jugar_interactivamente(td_agent)\n"
   ]
  },
  {
   "cell_type": "code",
   "execution_count": null,
   "metadata": {},
   "outputs": [],
   "source": [
    "graficar_resultados()\n"
   ]
  }
 ],
 "metadata": {
  "kernelspec": {
   "display_name": "Python 3",
   "language": "python",
   "name": "python3"
  },
  "language_info": {
   "codemirror_mode": {
    "name": "ipython",
    "version": 3
   },
   "file_extension": ".py",
   "mimetype": "text/x-python",
   "name": "python",
   "nbconvert_exporter": "python",
   "pygments_lexer": "ipython3",
   "version": "3.11.9"
  }
 },
 "nbformat": 4,
 "nbformat_minor": 2
}
