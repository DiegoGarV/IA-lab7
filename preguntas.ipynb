{
 "cells": [
  {
   "cell_type": "markdown",
   "metadata": {},
   "source": [
    "# Laboratorio 7\n",
    "\n",
    "## Task 1\n",
    "\n",
    "1. **¿Qué es el temporal difference learning y en qué se diferencia de los métodos tradicionales de aprendizaje supervisado? Explique el concepto de \"error de diferencia temporal\" y su papel en los algoritmos de aprendizaje por refuerzo**<br>\n",
    "El TD Learning es un método de aprendizaje por refuerzo donde el agente no necesita un modelo explícito del entorno o esperar el resultado final ed un episodio para aprender los valores del estado. Se diferencia del aprendizaje supervisado tradicional con que el TD interactuá de forma directa con el entorno y aprende de su propia experiencia. El \"error de diferencia temporal\" o \"TD Error\" es el que mide la diferencia entre la estimación actual de la recompensa futura y la recompensa real obtenida. Este es importante para el TD learning porque es el que le premite ir aprendiendo de su experiencia, sirviendole como una señal de corrección. \n",
    "\n",
    "2. **En el contexto de los juegos simultáneos, ¿cómo toman decisiones los jugadores sin conocer las acciones de sus oponentes? De un ejemplo de un escenario del mundo real que pueda modelarse como un juego simultáneo y discuta las estrategias que los jugadores podrían emplear en tal situación.**<br>\n",
    "\n",
    "\n",
    "3. **¿Qué distingue los juegos de suma cero de los juegos de suma cero y cómo afecta esta diferencia al proceso de toma de decisiones de los jugadores? Proporcione al menos un ejemplo de juegos que entren en la categoría de juegos de no suma cero y discuta las consideraciones estratégicas únicas involucradas**<br>\n",
    "\n",
    "4. **¿Cómo se aplica el concepto de equilibrio de Nash a los juegos simultáneos? Explicar cómo el equilibrio de Nash representa una solución estable en la que ningún jugador tiene un incentivo para desviarse unilateralmente de la estrategia elegida**<br>\n",
    "\n",
    "5. **Discuta la aplicación del temporal difference learning en el modelado y optimización de procesos de toma de decisiones en entornos dinámicos. ¿Cómo maneja el temporal difference learning el equilibrio entre exploración y explotación y cuáles son algunos de los desafíos asociados con su implementación en la práctica?**<br>\n"
   ]
  }
 ],
 "metadata": {
  "language_info": {
   "name": "python"
  }
 },
 "nbformat": 4,
 "nbformat_minor": 2
}
